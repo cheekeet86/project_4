{
 "cells": [
  {
   "cell_type": "markdown",
   "metadata": {},
   "source": [
    "### Header"
   ]
  },
  {
   "cell_type": "code",
   "execution_count": null,
   "metadata": {},
   "outputs": [],
   "source": [
    "# import libraries\n",
    "\n",
    "# maths\n",
    "import numpy as np\n",
    "import pandas as pd\n",
    "import scipy.stats as stats\n",
    "from pandas.api.types import is_numeric_dtype\n",
    "\n",
    "# visual\n",
    "#from matplotlib_venn import venn2\n",
    "import seaborn as sns\n",
    "import matplotlib.pyplot as plt\n",
    "%matplotlib inline\n",
    "import descartes\n",
    "import geopandas as gpd\n",
    "from shapely.geometry import Point, Polygon\n",
    "\n",
    "# modelling\n",
    "from sklearn import linear_model\n",
    "from sklearn.linear_model import Ridge,LinearRegression,LogisticRegression\n",
    "from sklearn.model_selection import train_test_split,cross_val_score,GridSearchCV\n",
    "from sklearn.preprocessing import StandardScaler,PolynomialFeatures\n",
    "from sklearn.metrics import r2_score,mean_squared_error,confusion_matrix,accuracy_score\n",
    "from sklearn.pipeline import make_pipeline,Pipeline\n",
    "\n",
    "# nlp\n",
    "#from sklearn.feature_extraction.text import CountVectorizer,HashingVectorizer,TfidfVectorizer\n",
    "#from sklearn.naive_bayes import MultinomialNB\n",
    "#from nltk.stem import PorterStemmer,WordNetLemmatizer\n",
    "#from nltk.tokenize import sent_tokenize, word_tokenize\n",
    "#from nltk.corpus import stopwords\n",
    "#from nltk.sentiment.vader import SentimentIntensityAnalyzer\n",
    "#import spacy\n",
    "#from spacy.tokens import Doc\n",
    "\n",
    "# web\n",
    "#import requests\n",
    "#import json\n",
    "\n",
    "# others\n",
    "import os\n",
    "import re\n",
    "import time\n",
    "import datetime as datetime"
   ]
  },
  {
   "cell_type": "code",
   "execution_count": null,
   "metadata": {},
   "outputs": [],
   "source": [
    "# file paths\n",
    "\n",
    "input_path = '../data/2_input/'\n",
    "clean_path = '../data/3_clean/'\n",
    "output_path = '../data/4_output/'\n",
    "\n",
    "image_path = '../images/'"
   ]
  },
  {
   "cell_type": "markdown",
   "metadata": {},
   "source": [
    "### Functions"
   ]
  },
  {
   "cell_type": "markdown",
   "metadata": {},
   "source": [
    "### Import Data"
   ]
  },
  {
   "cell_type": "code",
   "execution_count": null,
   "metadata": {},
   "outputs": [],
   "source": [
    "# import clean data\n",
    "\n",
    "df_train = pd.read_csv(clean_path + 'train_clean.csv')\n",
    "df_test = pd.read_csv(clean_path + 'test_clean.csv')\n",
    "street_map = gpd.read_file('../data/2_input/Chicago Boundaries/geo_export_d41dc94d-31ce-478c-902c-864695385885.shp')\n",
    "#df_weather = pd.read_csv(clean_path + 'weather_clean.csv')\n",
    "df_spray = pd.read_csv(clean_path + 'spray_clean.csv')"
   ]
  },
  {
   "cell_type": "markdown",
   "metadata": {},
   "source": [
    "### EDA"
   ]
  },
  {
   "cell_type": "code",
   "execution_count": null,
   "metadata": {},
   "outputs": [],
   "source": [
    "df_train.head()"
   ]
  },
  {
   "cell_type": "code",
   "execution_count": null,
   "metadata": {},
   "outputs": [],
   "source": [
    "train_year = list(df_train.year.unique())\n",
    "train_year"
   ]
  },
  {
   "cell_type": "code",
   "execution_count": null,
   "metadata": {},
   "outputs": [],
   "source": [
    "fig, ax = plt.subplots(nrows=2, ncols=2, figsize=(12,8),sharey=True)\n",
    "ax = ax.ravel()\n",
    "plt.suptitle('Number of mosquitoes by year', fontsize=20, y=1.05)\n",
    "for i, y in enumerate(train_year):\n",
    "    df_train[df_train['year']==y].groupby(['year', 'month']).nummosquitos.sum().plot(kind='bar', ax=ax[i])\n",
    "    ax[i].set_title(y)\n",
    "plt.tight_layout()"
   ]
  },
  {
   "cell_type": "code",
   "execution_count": null,
   "metadata": {},
   "outputs": [],
   "source": [
    "fig, ax = plt.subplots(nrows=2, ncols=2, figsize=(12,8),sharey=True)\n",
    "ax = ax.ravel()\n",
    "plt.suptitle('Number of viruses by year', fontsize=20, y=1.05)\n",
    "for i, y in enumerate(train_year):\n",
    "    df_train[df_train['year']==y].groupby(['year', 'month']).wnvpresent.sum().plot(kind='bar', ax=ax[i])\n",
    "    ax[i].set_title(y)\n",
    "plt.tight_layout()"
   ]
  },
  {
   "cell_type": "code",
   "execution_count": null,
   "metadata": {},
   "outputs": [],
   "source": [
    "sns.scatterplot(x=df_train.groupby(['year', 'month']).nummosquitos.sum(),\n",
    "                y= df_train.groupby(['year', 'month']).wnvpresent.sum(),\n",
    "               data=df_train)"
   ]
  },
  {
   "cell_type": "code",
   "execution_count": null,
   "metadata": {},
   "outputs": [],
   "source": [
    "df_spray.head()"
   ]
  },
  {
   "cell_type": "code",
   "execution_count": null,
   "metadata": {},
   "outputs": [],
   "source": [
    "spray_year = list(df_spray.year_spray.unique())\n",
    "spray_year"
   ]
  },
  {
   "cell_type": "code",
   "execution_count": null,
   "metadata": {},
   "outputs": [],
   "source": [
    "fig, ax = plt.subplots(nrows=1, ncols=2, figsize=(12,5),sharey=True)\n",
    "ax = ax.ravel()\n",
    "plt.suptitle('Spray by year', fontsize=20, y=1.05)\n",
    "for i, y in enumerate(spray_year):\n",
    "    df_spray[df_spray['year_spray']==y].groupby(['year_spray', 'month_spray']).latitude.count().plot(kind='bar', ax=ax[i])\n",
    "    ax[i].set_title(y)\n",
    "    ax[i].set_xlabel('Year and month sprayed')\n",
    "plt.tight_layout()"
   ]
  },
  {
   "cell_type": "code",
   "execution_count": null,
   "metadata": {},
   "outputs": [],
   "source": [
    "crs = {'init': 'epsg:4326'}\n",
    "df_train.head()"
   ]
  },
  {
   "cell_type": "code",
   "execution_count": null,
   "metadata": {},
   "outputs": [],
   "source": [
    "geometry_train = [Point(xy) for xy in zip(df_train['longitude'], df_train['latitude'])]\n",
    "\n",
    "geo_df = gpd.GeoDataFrame(df_train,\n",
    "                      crs=crs,\n",
    "                      geometry=geometry_train)\n",
    "geo_df.head()"
   ]
  },
  {
   "cell_type": "code",
   "execution_count": null,
   "metadata": {},
   "outputs": [],
   "source": [
    "geometry_spray = [Point(xy) for xy in zip(df_spray['longitude'], df_spray['latitude'])]\n",
    "geo_spray_df = gpd.GeoDataFrame(df_spray,\n",
    "                      crs=crs,\n",
    "                      geometry=geometry_spray)\n",
    "geo_spray_df.head()"
   ]
  },
  {
   "cell_type": "code",
   "execution_count": null,
   "metadata": {},
   "outputs": [],
   "source": [
    "fig, ax = plt.subplots(figsize=(15,15))\n",
    "street_map.plot(ax=ax, alpha=0.4, color='grey')\n",
    "geo_df[geo_df['wnvpresent']==0].plot(ax=ax, markersize=20, color='blue', marker='o', label='Neg')\n",
    "geo_df[geo_df['wnvpresent']==1].plot(ax=ax, markersize=20, color='red', marker='o', label='Pos')\n",
    "plt.legend(prop={'size': 15})"
   ]
  },
  {
   "cell_type": "code",
   "execution_count": null,
   "metadata": {},
   "outputs": [],
   "source": [
    "fig, ax = plt.subplots(figsize=(15,15))\n",
    "street_map.plot(ax=ax, alpha=0.4, color='grey')\n",
    "geo_df[geo_df['wnvpresent']==0].plot(ax=ax, markersize=20, color='blue', marker='o', label='Neg')\n",
    "geo_df[geo_df['wnvpresent']==1].plot(ax=ax, markersize=20, color='red', marker='o', label='Pos')\n",
    "geo_spray_df.plot(ax=ax, markersize=20, color='green', marker='o', label = 'Spray')\n",
    "plt.legend(prop={'size': 15})"
   ]
  }
 ],
 "metadata": {
  "kernelspec": {
   "display_name": "Python 3",
   "language": "python",
   "name": "python3"
  },
  "language_info": {
   "codemirror_mode": {
    "name": "ipython",
    "version": 3
   },
   "file_extension": ".py",
   "mimetype": "text/x-python",
   "name": "python",
   "nbconvert_exporter": "python",
   "pygments_lexer": "ipython3",
   "version": "3.7.3"
  }
 },
 "nbformat": 4,
 "nbformat_minor": 2
}
