{
 "cells": [
  {
   "cell_type": "markdown",
   "metadata": {},
   "source": [
    "### Header"
   ]
  },
  {
   "cell_type": "code",
   "execution_count": null,
   "metadata": {},
   "outputs": [],
   "source": [
    "# import libraries\n",
    "\n",
    "# maths\n",
    "import numpy as np\n",
    "import pandas as pd\n",
    "\n",
    "# visual\n",
    "#from matplotlib_venn import venn2\n",
    "import seaborn as sns\n",
    "import matplotlib.pyplot as plt\n",
    "plt.style.use('fivethirtyeight')\n",
    "plt.rcParams['font.size'] = 14\n",
    "sns.set_style('whitegrid')\n",
    "%matplotlib inline\n",
    "%config InlineBackend.figure_format = 'retina'\n",
    "\n",
    "import descartes\n",
    "import geopandas as gpd\n",
    "from shapely.geometry import Point, Polygon\n",
    "\n",
    "# others\n",
    "import os\n",
    "import re\n",
    "import time\n",
    "import datetime as datetime"
   ]
  },
  {
   "cell_type": "code",
   "execution_count": null,
   "metadata": {},
   "outputs": [],
   "source": [
    "# file paths\n",
    "\n",
    "input_path = '../data/2_input/'\n",
    "clean_path = '../data/3_clean/'\n",
    "output_path = '../data/4_output/'\n",
    "\n",
    "image_path = '../images/'"
   ]
  },
  {
   "cell_type": "markdown",
   "metadata": {},
   "source": [
    "### Functions"
   ]
  },
  {
   "cell_type": "markdown",
   "metadata": {},
   "source": [
    "### Import Data"
   ]
  },
  {
   "cell_type": "code",
   "execution_count": null,
   "metadata": {},
   "outputs": [],
   "source": [
    "# import clean data\n",
    "\n",
    "df_train = pd.read_csv(clean_path + 'train_clean.csv')\n",
    "df_test = pd.read_csv(clean_path + 'test_clean.csv')\n",
    "street_map = gpd.read_file('../data/2_input/Chicago Boundaries/geo_export_d41dc94d-31ce-478c-902c-864695385885.shp')\n",
    "df_weather = pd.read_csv(clean_path + 'weather_clean.csv')\n",
    "df_spray = pd.read_csv(clean_path + 'spray_clean.csv')"
   ]
  },
  {
   "cell_type": "markdown",
   "metadata": {},
   "source": [
    "### EDA"
   ]
  },
  {
   "cell_type": "code",
   "execution_count": null,
   "metadata": {},
   "outputs": [],
   "source": [
    "# The target is imbalanced, which will be taken care of before modelling is done.\n",
    "sns.barplot(x=[0,1], y=df_train.wnvpresent.value_counts())\n",
    "plt.xlabel('Presence of West Nile Virus', fontsize=15)\n",
    "plt.ylabel('Count',fontsize=15)\n",
    "plt.tick_params(labelsize=14)\n",
    "plt.title('Count of target',fontsize=16, y=1.03)\n",
    "plt.show()"
   ]
  },
  {
   "cell_type": "code",
   "execution_count": null,
   "metadata": {},
   "outputs": [],
   "source": [
    "# Highest number of mosquitos caught in Jul, Aug\n",
    "df_train.groupby(['year','month']).nummosquitos.sum().unstack(fill_value=0).plot.bar(figsize=(10,7))\n",
    "plt.xticks(rotation=0, fontsize=14)\n",
    "plt.yticks(fontsize=14)\n",
    "plt.title('Count of mosquitos by year & month', fontsize=16, y=1.01)\n",
    "plt.ylabel('Count', fontsize=14)\n",
    "plt.xlabel('Year',fontsize=14)\n",
    "plt.legend(fontsize=14)\n",
    "plt.show()"
   ]
  },
  {
   "cell_type": "code",
   "execution_count": null,
   "metadata": {},
   "outputs": [],
   "source": [
    "# Most common species of mosquitos caught are Culex Pipiens and Culex Restuans\n",
    "# Proportion of each species are the same except for 2007\n",
    "df_train.groupby(['year','species']).nummosquitos.sum().unstack(fill_value=0).plot.bar(figsize=(10,7))\n",
    "plt.xticks(rotation=0, fontsize=14)\n",
    "plt.yticks(fontsize=14)\n",
    "plt.title('Count of mosquitos by species', fontsize=16, y=1.01)\n",
    "plt.ylabel('Count', fontsize=14)\n",
    "plt.xlabel('Year',fontsize=14)\n",
    "plt.legend(fontsize=14)\n",
    "plt.show()"
   ]
  },
  {
   "cell_type": "code",
   "execution_count": null,
   "metadata": {},
   "outputs": [],
   "source": [
    "# not much insights to draw from this plot - to remove? \n",
    "df_train.groupby(['year','month', 'species']).nummosquitos.sum().unstack(fill_value=0).plot.bar(figsize=(12,7))\n",
    "plt.xticks(rotation=45, fontsize=14)\n",
    "plt.yticks(fontsize=14)\n",
    "plt.title('Count of mosquitoes by year, month & species', fontsize=16, y=1.01)\n",
    "plt.ylabel('Count', fontsize=14)\n",
    "plt.xlabel('Year',fontsize=14)\n",
    "plt.legend(fontsize=14)\n",
    "plt.show()"
   ]
  },
  {
   "cell_type": "code",
   "execution_count": null,
   "metadata": {},
   "outputs": [],
   "source": [
    "# same as above but can see the breakdown more clearly\n",
    "fig, ax = plt.subplots(nrows=2, ncols=2, figsize=(12,10))\n",
    "ax = ax.ravel()\n",
    "plt.suptitle('Number of mosquitoes by year', fontsize=20, y=1.05)\n",
    "for i, y in enumerate(df_train.year.unique()):\n",
    "    df_train[df_train['year']==y].groupby(['month', 'species']).nummosquitos.sum().unstack(fill_value=0).plot.bar(ax=ax[i])\n",
    "    ax[i].set_title(y)\n",
    "    ax[i].tick_params(axis='x', labelrotation=0)\n",
    "plt.tight_layout()"
   ]
  },
  {
   "cell_type": "code",
   "execution_count": null,
   "metadata": {},
   "outputs": [],
   "source": [
    "# Highest number of mosquitos caught in Jul, Aug\n",
    "df_train.groupby(['year','month']).wnvpresent.mean().unstack(fill_value=0).plot.bar(figsize=(10,7))\n",
    "plt.xticks(rotation=0, fontsize=14)\n",
    "plt.yticks(fontsize=14)\n",
    "plt.title('Probability of virus by year & month', fontsize=16, y=1.01)\n",
    "plt.ylabel('Probability', fontsize=14)\n",
    "plt.xlabel('Year',fontsize=14)\n",
    "plt.legend(fontsize=14)\n",
    "plt.show()"
   ]
  },
  {
   "cell_type": "code",
   "execution_count": null,
   "metadata": {},
   "outputs": [],
   "source": [
    "# Highest probability of virus in Aug except for 2011, where highest probability of virus was in Sep\n",
    "# Higher number of mosquito does not indicate higher probability of virus \n",
    "fig, ax = plt.subplots(nrows=1, ncols=2, figsize=(14,7))\n",
    "ax = ax.ravel()\n",
    "df_train.groupby(['month', 'year']).wnvpresent.mean().unstack(fill_value=0).plot(ax=ax[0])\n",
    "df_train.groupby(['month', 'year']).nummosquitos.sum().unstack(fill_value=0).plot(ax=ax[1])\n",
    "\n",
    "ax[0].set_title('Probability of virus by year & month', fontsize=16, y=1.01)\n",
    "ax[0].set_ylabel('Probability', fontsize=14)\n",
    "ax[0].set_xlabel('Month',fontsize=14)\n",
    "ax[0].legend(fontsize=14)\n",
    "ax[0].tick_params(labelsize=14)\n",
    "\n",
    "ax[1].set_title('Number of mosquitos by year & month', fontsize=16, y=1.01)\n",
    "ax[1].set_ylabel('Count', fontsize=14)\n",
    "ax[1].set_xlabel('Month',fontsize=14)\n",
    "ax[1].legend(fontsize=14)\n",
    "ax[1].tick_params(labelsize=14)\n",
    "\n",
    "plt.subplots_adjust(wspace=0.3)"
   ]
  },
  {
   "cell_type": "code",
   "execution_count": null,
   "metadata": {},
   "outputs": [],
   "source": [
    "plt.figure(figsize=(8,6))\n",
    "sns.countplot(df_train[df_train['wnvpresent']==1].species)\n",
    "plt.title('Count of mosquito species carrying the virus', fontsize=16, y=1.01)\n",
    "plt.tick_params(labelsize=12)\n",
    "plt.xlabel('Species', fontsize=14)\n",
    "plt.ylabel('Count', fontsize=14)\n",
    "plt.show()"
   ]
  },
  {
   "cell_type": "code",
   "execution_count": null,
   "metadata": {},
   "outputs": [],
   "source": [
    "# Most common species of mosquitos caught are Culex Pipiens and Culex Restuans\n",
    "# Proportion of each species are the same except for 2007\n",
    "df_train.groupby(['year','species']).wnvpresent.mean().unstack(fill_value=0).plot.bar(figsize=(8,6))\n",
    "plt.xticks(rotation=0, fontsize=14)\n",
    "plt.yticks(fontsize=14)\n",
    "plt.title('Probability of mosquito species carrying virus', fontsize=16, y=1.01)\n",
    "plt.ylabel('Probability', fontsize=14)\n",
    "plt.xlabel('Year',fontsize=14)\n",
    "plt.legend(fontsize=14)\n",
    "plt.show()"
   ]
  },
  {
   "cell_type": "code",
   "execution_count": null,
   "metadata": {},
   "outputs": [],
   "source": [
    "# looks like there is an outlier - to remove the graph?\n",
    "sns.scatterplot(x=df_train.groupby(['year', 'month']).nummosquitos.sum(),\n",
    "                y= df_train.groupby(['year', 'month']).wnvpresent.mean())"
   ]
  },
  {
   "cell_type": "markdown",
   "metadata": {},
   "source": [
    "### Weather Data"
   ]
  },
  {
   "cell_type": "code",
   "execution_count": null,
   "metadata": {},
   "outputs": [],
   "source": [
    "# Distribution of average temperature does not follow a normal distribution\n",
    "# Average temperature peaks in Jul or Aug each year\n",
    "fig, ax = plt.subplots(nrows=1, ncols=2, figsize=(14,7))\n",
    "ax = ax.ravel()\n",
    "\n",
    "sns.distplot(df_weather.tavg, ax=ax[0])\n",
    "df_weather[df_weather['station']==1].groupby(['month','year']).tavg.mean().unstack(fill_value=0).plot(\n",
    "    ax=ax[1], color=['b', 'g', 'r', 'c', 'm', 'y', 'k', 'darkred'])\n",
    "\n",
    "ax[0].set_title('Distribution of Average Temperature', fontsize=16, y=1.01)\n",
    "ax[0].set_xlabel('Average Temperature (F)', fontsize=14)\n",
    "ax[0].tick_params(labelsize=14)\n",
    "\n",
    "ax[1].set_title('Monthly Average of Average Temperature', fontsize=16, y=1.01)\n",
    "ax[1].set_xlabel('Month', fontsize=14)\n",
    "ax[1].set_ylabel('Average Temperature (F)', fontsize=14)\n",
    "ax[1].tick_params(labelsize=12)\n",
    "ax[1].legend(fontsize=14)\n",
    "\n",
    "plt.subplots_adjust(wspace=0.2)"
   ]
  },
  {
   "cell_type": "code",
   "execution_count": null,
   "metadata": {},
   "outputs": [],
   "source": [
    "# Distribution of dewpoint temperature does not follow a normal distribution\n",
    "# Dewpoint temperature peaks in Jul or Aug each year\n",
    "fig, ax = plt.subplots(nrows=1, ncols=2, figsize=(14,7))\n",
    "ax = ax.ravel()\n",
    "\n",
    "sns.distplot(df_weather.dewpoint, ax=ax[0])\n",
    "df_weather[df_weather['station']==1].groupby(['month','year']).dewpoint.mean().unstack(fill_value=0).plot(\n",
    "    ax=ax[1], color=['b', 'g', 'r', 'c', 'm', 'y', 'k', 'darkred'])\n",
    "\n",
    "ax[0].set_title('Distribution of Dewpoint Temperature', fontsize=16, y=1.01)\n",
    "ax[0].set_xlabel('Dewpoint Temperature (F)', fontsize=14)\n",
    "ax[0].tick_params(labelsize=14)\n",
    "\n",
    "ax[1].set_title('Monthly Average of Dewpoint Temperature', fontsize=16, y=1.01)\n",
    "ax[1].set_xlabel('Month', fontsize=14)\n",
    "ax[1].set_ylabel('Average Dewpoint Temperature (F)', fontsize=14)\n",
    "ax[1].tick_params(labelsize=12)\n",
    "ax[1].legend(fontsize=14)\n",
    "\n",
    "plt.subplots_adjust(wspace=0.2)"
   ]
  },
  {
   "cell_type": "code",
   "execution_count": null,
   "metadata": {},
   "outputs": [],
   "source": [
    "# Distribution of wetbulb temperature does not follow a normal distribution\n",
    "# Wetbulb temperature peaks in Jul or Aug each year\n",
    "fig, ax = plt.subplots(nrows=1, ncols=2, figsize=(14,7))\n",
    "ax = ax.ravel()\n",
    "\n",
    "sns.distplot(df_weather.wetbulb, ax=ax[0])\n",
    "df_weather[df_weather['station']==1].groupby(['month','year']).wetbulb.mean().unstack(fill_value=0).plot(\n",
    "    ax=ax[1], color=['b', 'g', 'r', 'c', 'm', 'y', 'k', 'darkred'])\n",
    "\n",
    "ax[0].set_title('Distribution of Wetbulb Temperature', fontsize=16, y=1.01)\n",
    "ax[0].set_xlabel('Wetbulb Temperature (F)', fontsize=14)\n",
    "ax[0].tick_params(labelsize=14)\n",
    "\n",
    "ax[1].set_title('Monthly Average of Wetbulb Temperature', fontsize=16, y=1.01)\n",
    "ax[1].set_xlabel('Month', fontsize=14)\n",
    "ax[1].set_ylabel('Average Wetbulb Temperature (F)', fontsize=14)\n",
    "ax[1].tick_params(labelsize=12)\n",
    "ax[1].legend(fontsize=14)\n",
    "\n",
    "plt.subplots_adjust(wspace=0.2)"
   ]
  },
  {
   "cell_type": "code",
   "execution_count": null,
   "metadata": {},
   "outputs": [],
   "source": [
    "# Distribution of precipitation does not follow a normal distribution\n",
    "# Monthly average precipitation does not show any trend throughout the years\n",
    "fig, ax = plt.subplots(nrows=1, ncols=2, figsize=(14,7))\n",
    "ax = ax.ravel()\n",
    "\n",
    "sns.distplot(df_weather.preciptotal, ax=ax[0])\n",
    "df_weather[df_weather['station']==1].groupby(['month','year']).preciptotal.mean().unstack(fill_value=0).plot(\n",
    "    ax=ax[1], color=['b', 'g', 'r', 'c', 'm', 'y', 'k', 'darkred'])\n",
    "\n",
    "ax[0].set_title('Distribution of Precipitation', fontsize=16, y=1.01)\n",
    "ax[0].set_xlabel('Precipitation(Inches)', fontsize=14)\n",
    "ax[0].tick_params(labelsize=14)\n",
    "\n",
    "ax[1].set_title('Monthly Average Precipitation', fontsize=16, y=1.01)\n",
    "ax[1].set_xlabel('Month', fontsize=14)\n",
    "ax[1].set_ylabel('Average Precipitation(Inches)', fontsize=14)\n",
    "ax[1].tick_params(labelsize=12)\n",
    "ax[1].legend(fontsize=14)\n",
    "\n",
    "plt.subplots_adjust(wspace=0.2)"
   ]
  },
  {
   "cell_type": "code",
   "execution_count": null,
   "metadata": {},
   "outputs": [],
   "source": [
    "# Sprayed in Jul, Aug and Sep\n",
    "df_spray.groupby(['year_spray', 'month_spray']).day_spray.count().unstack(fill_value=0).plot.bar(figsize=(8,6))\n",
    "plt.xticks(rotation=0, fontsize=14)\n",
    "plt.yticks(fontsize=14)\n",
    "plt.title('Count of spray by year and month', fontsize=16, y=1.01)\n",
    "plt.ylabel('Count', fontsize=14)\n",
    "plt.xlabel('Year',fontsize=14)\n",
    "plt.legend(fontsize=14)\n",
    "plt.show()"
   ]
  },
  {
   "cell_type": "markdown",
   "metadata": {},
   "source": [
    "### Visualisation on map"
   ]
  },
  {
   "cell_type": "code",
   "execution_count": null,
   "metadata": {},
   "outputs": [],
   "source": [
    "crs = {'init': 'epsg:4326'}\n",
    "\n",
    "geometry_train = [Point(xy) for xy in zip(df_train['longitude'], df_train['latitude'])]\n",
    "\n",
    "geo_df = gpd.GeoDataFrame(df_train,\n",
    "                      crs=crs,\n",
    "                      geometry=geometry_train)\n",
    "geo_df.head()"
   ]
  },
  {
   "cell_type": "code",
   "execution_count": null,
   "metadata": {},
   "outputs": [],
   "source": [
    "geometry_spray = [Point(xy) for xy in zip(df_spray['longitude'], df_spray['latitude'])]\n",
    "\n",
    "geo_spray_df = gpd.GeoDataFrame(df_spray,\n",
    "                      crs=crs,\n",
    "                      geometry=geometry_spray)\n",
    "geo_spray_df.head()"
   ]
  },
  {
   "cell_type": "code",
   "execution_count": null,
   "metadata": {},
   "outputs": [],
   "source": [
    "#Station 1: CHICAGO O'HARE INTERNATIONAL AIRPORT Lat: 41.995 Lon: -87.933 Elev: 662 ft. above sea level\n",
    "#Station 2: CHICAGO MIDWAY INTL ARPT Lat: 41.786 Lon: -87.752 Elev: 612 ft. above sea level\n",
    "\n",
    "df_station = pd.DataFrame({\n",
    "    'station': [\"O'HARE INTERNATIONAL AIRPORT\", \"MIDWAY INTL ARPT\"],\n",
    "    'latitude': [41.995, 41.786],\n",
    "    'longitude': [-87.933, -87.752]\n",
    "})\n",
    "\n",
    "geometry_station = [Point(xy) for xy in zip(df_station['longitude'], df_station['latitude'])]\n",
    "\n",
    "geo_station_df = gpd.GeoDataFrame(df_station,\n",
    "                      crs=crs,\n",
    "                      geometry=geometry_station)\n",
    "geo_station_df.head()"
   ]
  },
  {
   "cell_type": "code",
   "execution_count": null,
   "metadata": {},
   "outputs": [],
   "source": [
    "# Plot location of traps, spray and weather station\n",
    "fig, ax = plt.subplots(figsize=(11,11))\n",
    "street_map.plot(ax=ax, alpha=0.4, color='grey')\n",
    "geo_spray_df[geo_spray_df['latitude']<42.3].plot(\n",
    "    ax=ax, markersize=20, color='yellow', marker='o', alpha=0.2, label='Spray')\n",
    "geo_df.plot(ax=ax, markersize=20, color='blue', marker='o', label='Traps')\n",
    "geo_station_df.plot(ax=ax, markersize=40, color='orange', marker='o', label='Station')\n",
    "plt.legend(prop={'size': 15})\n",
    "plt.title('Locations of traps, spray and weather station', fontsize=16, y=1.01)\n",
    "plt.xlabel('Longitude', fontsize=14)\n",
    "plt.ylabel('Latitude', fontsize=14)\n",
    "plt.show()"
   ]
  },
  {
   "cell_type": "code",
   "execution_count": null,
   "metadata": {},
   "outputs": [],
   "source": [
    "# Presence of virus still observed at locations sprayed - spray was not effective/ time sprayed was not correct?\n",
    "fig, ax = plt.subplots(nrows=2, ncols=2, figsize=(12,12), sharex=True, sharey=True)\n",
    "ax = ax.ravel()\n",
    "plt.suptitle('Location of virus and spray by year', fontsize=16, y=1.01)\n",
    "for i, y in enumerate(df_train.year.unique()):\n",
    "    street_map.plot(ax=ax[i], alpha=0.4, color='grey')\n",
    "    geo_spray_df[(geo_spray_df['latitude']<42.3) & (geo_spray_df['year_spray']==y)].plot(\n",
    "        ax=ax[i], markersize=20, color='yellow', marker='o', alpha=0.2, label='Spray')\n",
    "    geo_df[geo_df['wnvpresent']==1].plot(ax=ax[i], markersize=20, color='red', marker='o', label='Virus')\n",
    "    ax[i].legend(prop={'size': 15})\n",
    "    ax[i].set_title(y)\n",
    "    ax[i].set_xlabel('Longitude', fontsize=14)\n",
    "    ax[i].set_ylabel('Latitude', fontsize=14)\n",
    "plt.tight_layout()\n",
    "plt.subplots_adjust(wspace=0.2)"
   ]
  }
 ],
 "metadata": {
  "kernelspec": {
   "display_name": "Python 3",
   "language": "python",
   "name": "python3"
  },
  "language_info": {
   "codemirror_mode": {
    "name": "ipython",
    "version": 3
   },
   "file_extension": ".py",
   "mimetype": "text/x-python",
   "name": "python",
   "nbconvert_exporter": "python",
   "pygments_lexer": "ipython3",
   "version": "3.7.3"
  }
 },
 "nbformat": 4,
 "nbformat_minor": 2
}
