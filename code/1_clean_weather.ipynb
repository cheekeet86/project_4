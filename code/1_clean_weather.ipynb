{
 "cells": [
  {
   "cell_type": "markdown",
   "metadata": {},
   "source": [
    "### Header"
   ]
  },
  {
   "cell_type": "code",
   "execution_count": null,
   "metadata": {},
   "outputs": [],
   "source": [
    "# import libraries\n",
    "\n",
    "# maths\n",
    "import numpy as np\n",
    "import pandas as pd\n",
    "\n",
    "# others\n",
    "import os\n",
    "import re\n",
    "import time\n",
    "import datetime as datetime"
   ]
  },
  {
   "cell_type": "code",
   "execution_count": null,
   "metadata": {},
   "outputs": [],
   "source": [
    "# file paths\n",
    "\n",
    "input_path = '../data/2_input/'\n",
    "clean_path = '../data/3_clean/'\n",
    "output_path = '../data/4_output/'\n",
    "\n",
    "image_path = '../images/'"
   ]
  },
  {
   "cell_type": "markdown",
   "metadata": {},
   "source": [
    "### Functions"
   ]
  },
  {
   "cell_type": "code",
   "execution_count": null,
   "metadata": {},
   "outputs": [],
   "source": [
    "# split dates\n",
    "\n",
    "def create_yr(x): \n",
    "    return x.split('-')[0] \n",
    "\n",
    "def create_mth(x): \n",
    "    return x.split('-')[1] \n",
    "\n",
    "def create_day(x): \n",
    "    return x.split('-')[2] \n",
    "\n",
    "def rename_columns (columns):\n",
    "    return [column.lower() for column in columns]\n",
    "\n",
    "def clean_date(df): \n",
    "    df['year'] = df.date.apply(create_yr)\n",
    "    df['month'] = df.date.apply(create_mth)\n",
    "    df['day'] = df.date.apply(create_day)\n",
    "    \n",
    "    return df"
   ]
  },
  {
   "cell_type": "code",
   "execution_count": null,
   "metadata": {},
   "outputs": [],
   "source": [
    "def count_t(x): \n",
    "    if x == '  T':\n",
    "        return 1\n",
    "    else:\n",
    "        return 0\n",
    "    \n",
    "def count_m(x): \n",
    "    if x == 'M':\n",
    "        return 1\n",
    "    else:\n",
    "        return 0\n",
    "\n",
    "def count_dash(x): \n",
    "    if x == '-':\n",
    "        return 1\n",
    "    else:\n",
    "        return 0"
   ]
  },
  {
   "cell_type": "code",
   "execution_count": null,
   "metadata": {},
   "outputs": [],
   "source": [
    "# count total number of M - T in df\n",
    "\n",
    "def print_summary(df):    \n",
    "\n",
    "    cols = ['column','M','-','T']\n",
    "    df_summary = pd.DataFrame(columns=cols)\n",
    "    idx = 0\n",
    "\n",
    "    for col in df.columns:\n",
    "\n",
    "        if df[col].dtype == 'object':\n",
    "\n",
    "            total_m = df[col].apply(count_m).sum()\n",
    "            total_dash = df[col].apply(count_dash).sum()\n",
    "            total_t = df[col].apply(count_t).sum()\n",
    "\n",
    "            df_summary.at[idx,cols[0]] = col\n",
    "            df_summary.at[idx,cols[1]] = total_m\n",
    "            df_summary.at[idx,cols[2]] = total_dash\n",
    "            df_summary.at[idx,cols[3]] = total_t\n",
    "\n",
    "        idx += 1\n",
    "    \n",
    "    return df_summary"
   ]
  },
  {
   "cell_type": "markdown",
   "metadata": {},
   "source": [
    "### Import Data"
   ]
  },
  {
   "cell_type": "code",
   "execution_count": null,
   "metadata": {},
   "outputs": [],
   "source": [
    "# import weather data\n",
    "\n",
    "df = pd.read_csv(input_path + 'weather.csv')"
   ]
  },
  {
   "cell_type": "markdown",
   "metadata": {},
   "source": [
    "### Inspect Data"
   ]
  },
  {
   "cell_type": "code",
   "execution_count": null,
   "metadata": {},
   "outputs": [],
   "source": [
    "# print first 5 records\n",
    "\n",
    "print(df.shape)\n",
    "df.head()"
   ]
  },
  {
   "cell_type": "code",
   "execution_count": null,
   "metadata": {},
   "outputs": [],
   "source": [
    "# list all columns\n",
    "\n",
    "print(df.columns)"
   ]
  },
  {
   "cell_type": "code",
   "execution_count": null,
   "metadata": {},
   "outputs": [],
   "source": [
    "# df summary\n",
    "\n",
    "df.describe()"
   ]
  },
  {
   "cell_type": "code",
   "execution_count": null,
   "metadata": {},
   "outputs": [],
   "source": [
    "# show df information\n",
    "\n",
    "df.info()"
   ]
  },
  {
   "cell_type": "code",
   "execution_count": null,
   "metadata": {},
   "outputs": [],
   "source": [
    "# Check for nulls in columns\n",
    "\n",
    "null_cols = df.isnull().sum()\n",
    "mask_null = null_cols > 0\n",
    "null_cols[mask_null].sort_values(ascending=False)"
   ]
  },
  {
   "cell_type": "code",
   "execution_count": null,
   "metadata": {},
   "outputs": [],
   "source": [
    "# Check for nulls in rows\n",
    "\n",
    "null_rows = df.isnull().sum(axis=1)\n",
    "mask_null = null_rows > 0\n",
    "null_rows[mask_null].sort_values(ascending=False)"
   ]
  },
  {
   "cell_type": "code",
   "execution_count": null,
   "metadata": {},
   "outputs": [],
   "source": [
    "df.columns = rename_columns(df.columns)"
   ]
  },
  {
   "cell_type": "code",
   "execution_count": null,
   "metadata": {},
   "outputs": [],
   "source": [
    "df = clean_date(df)"
   ]
  },
  {
   "cell_type": "code",
   "execution_count": null,
   "metadata": {},
   "outputs": [],
   "source": [
    "df.head()"
   ]
  },
  {
   "cell_type": "code",
   "execution_count": null,
   "metadata": {},
   "outputs": [],
   "source": [
    "# check columns type\n",
    "\n",
    "df.dtypes"
   ]
  },
  {
   "cell_type": "markdown",
   "metadata": {},
   "source": [
    "### Clean Data"
   ]
  },
  {
   "cell_type": "code",
   "execution_count": null,
   "metadata": {},
   "outputs": [],
   "source": [
    "# count total number of M - T in df\n",
    "\n",
    "print('before cleaning:')\n",
    "df_summary = print_summary(df)\n",
    "df_summary"
   ]
  },
  {
   "cell_type": "code",
   "execution_count": null,
   "metadata": {},
   "outputs": [],
   "source": [
    "df.snowfall.unique()"
   ]
  },
  {
   "cell_type": "code",
   "execution_count": null,
   "metadata": {},
   "outputs": [],
   "source": [
    "df.depth.unique()"
   ]
  },
  {
   "cell_type": "code",
   "execution_count": null,
   "metadata": {},
   "outputs": [],
   "source": [
    "df.depart.unique()"
   ]
  },
  {
   "cell_type": "code",
   "execution_count": null,
   "metadata": {},
   "outputs": [],
   "source": [
    "#Suggest to drop water since its all missing values \n",
    "#Suggest to drop SnowFall since its mostly 0 or missing \n",
    "#Suggest to drop Depth since its either 0 or missing values \n",
    "#Suggest to drop codesum\n",
    "\n",
    "df.drop(columns = ['codesum','water1','snowfall','depth','date'], inplace = True)"
   ]
  },
  {
   "cell_type": "markdown",
   "metadata": {},
   "source": []
  },
  {
   "cell_type": "code",
   "execution_count": null,
   "metadata": {},
   "outputs": [],
   "source": [
    "# For sunset/sunrise and depart with missing (M) values:\n",
    "# its because station 2 does not collect these values. \n",
    "# so we can impute these missing values with values from station 1\n",
    "\n",
    "i = 0\n",
    "while i < df.shape[0]:\n",
    "    df.iloc[i+1, 4] = df.iloc[i, 4]\n",
    "    df.iloc[i+1, 9] = df.iloc[i, 9]\n",
    "    df.iloc[i+1, 10] = df.iloc[i, 10]\n",
    "    i+=2"
   ]
  },
  {
   "cell_type": "code",
   "execution_count": null,
   "metadata": {},
   "outputs": [],
   "source": [
    "def impute_missing_tavg(row):\n",
    "    if row['tavg'] == 'M': \n",
    "        row['tavg'] = (row['tmax'] - row['tmin']) * 0.5 + row['tmin']\n",
    "    return row\n",
    "\n",
    "df = df.apply(impute_missing_tavg, axis = 1)\n",
    "df.tavg = df.tavg.astype('int64')"
   ]
  },
  {
   "cell_type": "code",
   "execution_count": null,
   "metadata": {},
   "outputs": [],
   "source": [
    "def impute_missing_wetbulb(row): \n",
    "    if row['wetbulb'] == 'M':\n",
    "        row['wetbulb'] = row['tavg']-((row['tavg']-row['dewpoint'])/3)\n",
    "    return row\n",
    "\n",
    "df = df.apply(impute_missing_wetbulb, axis = 1)"
   ]
  },
  {
   "cell_type": "code",
   "execution_count": null,
   "metadata": {},
   "outputs": [],
   "source": [
    "def impute_missing_rest(row): \n",
    "    if row['heat'] == 'M':\n",
    "        if row['tavg'] >= 65: \n",
    "            row['heat'] = 0\n",
    "            row['cool'] = row['tavg'] - 65\n",
    "        else: \n",
    "            row['heat'] = 65 - row['tavg']\n",
    "            row['cool'] = 0\n",
    "\n",
    "    if row['preciptotal'] == '  T':\n",
    "        row['preciptotal'] = 0\n",
    "    if row['preciptotal'] == 'M':\n",
    "        row['preciptotal'] = df[df.preciptotal!='M'][df.preciptotal!='  T'].preciptotal.median()       \n",
    "    if row['stnpressure'] == 'M':\n",
    "        row['stnpressure'] = df[df.stnpressure!='M'].stnpressure.median()\n",
    "    if row['sealevel'] == 'M':\n",
    "        row['sealevel'] = df[df.sealevel!='M'].sealevel.median()\n",
    "    if row['avgspeed'] == 'M':\n",
    "        row['avgspeed'] = df[df.avgspeed!='M'].avgspeed.median()    \n",
    "    return row\n",
    "\n",
    "df = df.apply(impute_missing_rest, axis = 1)"
   ]
  },
  {
   "cell_type": "code",
   "execution_count": null,
   "metadata": {},
   "outputs": [],
   "source": [
    "print('after cleaning:')    \n",
    "df_summary = print_summary(df)\n",
    "df_summary"
   ]
  },
  {
   "cell_type": "markdown",
   "metadata": {},
   "source": [
    "### Output Data"
   ]
  },
  {
   "cell_type": "code",
   "execution_count": null,
   "metadata": {},
   "outputs": [],
   "source": [
    "df.head()"
   ]
  },
  {
   "cell_type": "code",
   "execution_count": null,
   "metadata": {},
   "outputs": [],
   "source": [
    "# output clean data\n",
    "\n",
    "df.to_csv(clean_path + 'weather_clean.csv',index=False)"
   ]
  }
 ],
 "metadata": {
  "kernelspec": {
   "display_name": "Python 3",
   "language": "python",
   "name": "python3"
  },
  "language_info": {
   "codemirror_mode": {
    "name": "ipython",
    "version": 3
   },
   "file_extension": ".py",
   "mimetype": "text/x-python",
   "name": "python",
   "nbconvert_exporter": "python",
   "pygments_lexer": "ipython3",
   "version": "3.7.3"
  }
 },
 "nbformat": 4,
 "nbformat_minor": 2
}
