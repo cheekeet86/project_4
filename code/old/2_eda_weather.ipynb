{
 "cells": [
  {
   "cell_type": "markdown",
   "metadata": {},
   "source": [
    "### Header"
   ]
  },
  {
   "cell_type": "code",
   "execution_count": null,
   "metadata": {},
   "outputs": [],
   "source": [
    "# import libraries\n",
    "\n",
    "# maths\n",
    "import numpy as np\n",
    "import pandas as pd\n",
    "import scipy.stats as stats\n",
    "from pandas.api.types import is_numeric_dtype\n",
    "\n",
    "# visual\n",
    "#from matplotlib_venn import venn2\n",
    "import seaborn as sns\n",
    "import matplotlib.pyplot as plt\n",
    "%matplotlib inline\n",
    "import descartes\n",
    "import geopandas as gpd\n",
    "from shapely.geometry import Point, Polygon\n",
    "\n",
    "# others\n",
    "import os\n",
    "import re\n",
    "import time\n",
    "import datetime as datetime\n",
    "from datetime import timedelta"
   ]
  },
  {
   "cell_type": "code",
   "execution_count": null,
   "metadata": {},
   "outputs": [],
   "source": [
    "# file paths\n",
    "\n",
    "input_path = '../data/2_input/'\n",
    "clean_path = '../data/3_clean/'\n",
    "output_path = '../data/4_output/'\n",
    "\n",
    "image_path = '../images/'"
   ]
  },
  {
   "cell_type": "markdown",
   "metadata": {},
   "source": [
    "### Functions"
   ]
  },
  {
   "cell_type": "code",
   "execution_count": null,
   "metadata": {},
   "outputs": [],
   "source": []
  },
  {
   "cell_type": "markdown",
   "metadata": {},
   "source": [
    "### Import Data"
   ]
  },
  {
   "cell_type": "code",
   "execution_count": null,
   "metadata": {},
   "outputs": [],
   "source": [
    "# import clean data\n",
    "\n",
    "#df_train = pd.read_csv(clean_path + 'train_clean.csv')\n",
    "#df_test = pd.read_csv(clean_path + 'test_clean.csv')\n",
    "df_weather = pd.read_csv(clean_path + 'weather_clean.csv')\n",
    "#df_spray = pd.read_csv(clean_path + 'spray_clean.csv')\n",
    "\n",
    "#street_map = gpd.read_file('../data/2_input/Chicago Boundaries/geo_export_d41dc94d-31ce-478c-902c-864695385885.shp')"
   ]
  },
  {
   "cell_type": "markdown",
   "metadata": {},
   "source": [
    "### Explore Data"
   ]
  },
  {
   "cell_type": "code",
   "execution_count": null,
   "metadata": {},
   "outputs": [],
   "source": [
    "# print df info\n",
    "\n",
    "print(df_weather.shape)\n",
    "df_weather.head()"
   ]
  },
  {
   "cell_type": "code",
   "execution_count": null,
   "metadata": {},
   "outputs": [],
   "source": [
    "# date information\n",
    "\n",
    "print('year:')\n",
    "print(df_weather['year'].unique())\n",
    "print('')\n",
    "print('month:')\n",
    "print(df_weather['month'].unique())\n",
    "print('')\n",
    "print('day:')\n",
    "print(df_weather['day'].unique())\n",
    "print('')"
   ]
  },
  {
   "cell_type": "code",
   "execution_count": null,
   "metadata": {},
   "outputs": [],
   "source": [
    "table = pd.pivot_table(df_weather, values=['tmax','tmin','tavg'], index=['year', 'month'], aggfunc=np.mean)"
   ]
  },
  {
   "cell_type": "markdown",
   "metadata": {},
   "source": [
    "- We have weather data for 8 years from 2007 to 2014.\n",
    "- Only 6 out of 12 months of data available (end spring, summer, early autumn)."
   ]
  },
  {
   "cell_type": "code",
   "execution_count": null,
   "metadata": {},
   "outputs": [],
   "source": [
    "df_yr_mth = df_weather.groupby(['year','month'])['tmax','tmin','tavg'].mean()\n",
    "df_yr_mth = pd.DataFrame(df_yr_mth)\n",
    "df_yr_mth"
   ]
  },
  {
   "cell_type": "code",
   "execution_count": null,
   "metadata": {},
   "outputs": [],
   "source": [
    "year_list = df_weather['year'].unique()\n",
    "df_list = []\n",
    "\n",
    "for year in year_list:\n",
    "    df = df_yr_mth.loc[year]\n",
    "    df_list.append(df)"
   ]
  },
  {
   "cell_type": "code",
   "execution_count": null,
   "metadata": {},
   "outputs": [],
   "source": [
    "sns.set_style('whitegrid')\n",
    "\n",
    "fig,axes = plt.subplots(4,2,figsize=(20,24))\n",
    "\n",
    "for idx,df in enumerate(df_list):    \n",
    "    \n",
    "    row_idx = int(idx/2)\n",
    "    col_idx = idx%2    \n",
    "    #print(idx,row_idx,col_idx)    \n",
    "      \n",
    "    y = ['tmax','tmin','tavg']\n",
    "    \n",
    "    year = year_list[idx]  \n",
    "    axes[row_idx,col_idx].title.set_text(year)\n",
    "    axes[row_idx,col_idx].set_ylim(40,100)\n",
    "\n",
    "    sns.lineplot(data=df,x=df.index,y=y[0],ax=axes[row_idx,col_idx],color='red',markers=True)\n",
    "    sns.lineplot(data=df,x=df.index,y=y[1],ax=axes[row_idx,col_idx],color='blue',markers=True)\n",
    "    sns.lineplot(data=df,x=df.index,y=y[2],ax=axes[row_idx,col_idx],color='orange',markers=True)"
   ]
  },
  {
   "cell_type": "code",
   "execution_count": null,
   "metadata": {
    "scrolled": false
   },
   "outputs": [],
   "source": [
    "plt.figure(figsize=(20,8))\n",
    "\n",
    "sns.barplot(data=df_weather,x='month',y='tavg',hue='year')"
   ]
  },
  {
   "cell_type": "code",
   "execution_count": null,
   "metadata": {},
   "outputs": [],
   "source": [
    "# clean incorrect sunset time\n",
    "# example: 1860 -> 1900\n",
    "\n",
    "for idx,row in df_weather.iterrows():\n",
    "\n",
    "    sunset = int(row['sunset'])\n",
    "    sunset = str(sunset)\n",
    "    print(idx,sunset)\n",
    "    \n",
    "    if sunset[-2:] == '60':\n",
    "        \n",
    "        hour = int(sunset[:2])\n",
    "        mins = int(sunset[-2:])\n",
    "        \n",
    "        mins = '00'\n",
    "        hour += 1\n",
    "        hour = str(hour)\n",
    "        \n",
    "        df_weather.at[idx,'sunset'] = hour + mins \n",
    "        \n",
    "        print(idx)"
   ]
  },
  {
   "cell_type": "code",
   "execution_count": null,
   "metadata": {},
   "outputs": [],
   "source": [
    "df_weather['sunrise_2'] = pd.to_datetime(df_weather['sunrise'], format='%H%M')\n",
    "df_weather['sunset_2'] = pd.to_datetime(df_weather['sunset'], format='%H%M')\n",
    "\n",
    "df_weather['daylight'] = df_weather['sunset_2'] - df_weather['sunrise_2']\n",
    "#df_weather['daylight_2'] = df_weather['daylight'].dt.total_seconds() / 3600"
   ]
  },
  {
   "cell_type": "code",
   "execution_count": null,
   "metadata": {},
   "outputs": [],
   "source": [
    "for idx,row in df_weather.iterrows():\n",
    "    \n",
    "    daylight = row['daylight']\n",
    "    daylight = daylight.total_seconds() / 3600    \n",
    "    df_weather.at[idx,'daylight_2'] = daylight"
   ]
  },
  {
   "cell_type": "code",
   "execution_count": null,
   "metadata": {},
   "outputs": [],
   "source": [
    "df_yr_mth = df_weather.groupby(['year','month'])['daylight_2'].mean()\n",
    "df_yr_mth = pd.DataFrame(df_yr_mth)"
   ]
  },
  {
   "cell_type": "code",
   "execution_count": null,
   "metadata": {},
   "outputs": [],
   "source": [
    "df_daylight = df_weather.groupby(['year','month'])['daylight_2'].mean()\n",
    "df_daylight = pd.DataFrame(df_daylight)"
   ]
  },
  {
   "cell_type": "code",
   "execution_count": null,
   "metadata": {},
   "outputs": [],
   "source": [
    "plt.figure(figsize=(20,8))\n",
    "\n",
    "sns.barplot(data=df_weather,x='month',y='daylight_2',hue='year')"
   ]
  }
 ],
 "metadata": {
  "kernelspec": {
   "display_name": "Python 3",
   "language": "python",
   "name": "python3"
  },
  "language_info": {
   "codemirror_mode": {
    "name": "ipython",
    "version": 3
   },
   "file_extension": ".py",
   "mimetype": "text/x-python",
   "name": "python",
   "nbconvert_exporter": "python",
   "pygments_lexer": "ipython3",
   "version": "3.7.3"
  }
 },
 "nbformat": 4,
 "nbformat_minor": 2
}
