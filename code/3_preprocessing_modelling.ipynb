{
 "cells": [
  {
   "cell_type": "markdown",
   "metadata": {},
   "source": [
    "### Header"
   ]
  },
  {
   "cell_type": "code",
   "execution_count": 1,
   "metadata": {},
   "outputs": [],
   "source": [
    "# import libraries\n",
    "\n",
    "# maths\n",
    "import numpy as np\n",
    "import pandas as pd\n",
    "import scipy.stats as stats\n",
    "from pandas.api.types import is_numeric_dtype\n",
    "\n",
    "# visual\n",
    "#from matplotlib_venn import venn2\n",
    "import seaborn as sns\n",
    "import matplotlib.pyplot as plt\n",
    "%matplotlib inline\n",
    "\n",
    "# modelling\n",
    "from sklearn import linear_model\n",
    "from sklearn.linear_model import Ridge,LinearRegression,LogisticRegression\n",
    "from sklearn.model_selection import train_test_split,cross_val_score,GridSearchCV\n",
    "from sklearn.preprocessing import StandardScaler,PolynomialFeatures\n",
    "from sklearn.metrics import r2_score,mean_squared_error,confusion_matrix,accuracy_score\n",
    "from sklearn.pipeline import make_pipeline,Pipeline\n",
    "from sklearn.utils import resample\n",
    "\n",
    "# nlp\n",
    "from sklearn.feature_extraction.text import CountVectorizer,HashingVectorizer,TfidfVectorizer\n",
    "from sklearn.naive_bayes import MultinomialNB\n",
    "from nltk.stem import PorterStemmer,WordNetLemmatizer\n",
    "from nltk.tokenize import sent_tokenize, word_tokenize\n",
    "from nltk.corpus import stopwords\n",
    "from nltk.sentiment.vader import SentimentIntensityAnalyzer\n",
    "import spacy\n",
    "from spacy.tokens import Doc\n",
    "\n",
    "# web\n",
    "import requests\n",
    "import json\n",
    "\n",
    "# others\n",
    "import os\n",
    "import re\n",
    "import time\n",
    "import datetime as datetime"
   ]
  },
  {
   "cell_type": "code",
   "execution_count": 2,
   "metadata": {},
   "outputs": [],
   "source": [
    "# file paths\n",
    "\n",
    "input_path = '../data/2_input/'\n",
    "clean_path = '../data/3_clean/'\n",
    "output_path = '../data/4_output/'\n",
    "\n",
    "image_path = '../images/'"
   ]
  },
  {
   "cell_type": "markdown",
   "metadata": {},
   "source": [
    "### Functions"
   ]
  },
  {
   "cell_type": "markdown",
   "metadata": {},
   "source": [
    "### Import Data"
   ]
  },
  {
   "cell_type": "code",
   "execution_count": 3,
   "metadata": {},
   "outputs": [],
   "source": [
    "# import clean data\n",
    "\n",
    "df_train = pd.read_csv(clean_path + 'train_clean.csv')\n",
    "df_test = pd.read_csv(clean_path + 'test_clean.csv')\n",
    "df_weather = pd.read_csv(clean_path + 'weather_clean.csv')\n",
    "#df_spray = pd.read_csv(clean_path + 'spray_clean.csv')"
   ]
  },
  {
   "cell_type": "code",
   "execution_count": 4,
   "metadata": {},
   "outputs": [],
   "source": [
    "majority_class = df_train[df_train['wnvpresent']==0]\n",
    "minority_class = df_train[df_train['wnvpresent']==1]"
   ]
  },
  {
   "cell_type": "markdown",
   "metadata": {},
   "source": [
    "### Preprocessing"
   ]
  },
  {
   "cell_type": "code",
   "execution_count": 7,
   "metadata": {},
   "outputs": [
    {
     "data": {
      "text/plain": [
       "(10506, 11)"
      ]
     },
     "execution_count": 7,
     "metadata": {},
     "output_type": "execute_result"
    }
   ],
   "source": [
    "df_train.shape"
   ]
  },
  {
   "cell_type": "code",
   "execution_count": 14,
   "metadata": {},
   "outputs": [
    {
     "data": {
      "text/plain": [
       "(116293, 10)"
      ]
     },
     "execution_count": 14,
     "metadata": {},
     "output_type": "execute_result"
    }
   ],
   "source": [
    "df_test.shape"
   ]
  },
  {
   "cell_type": "code",
   "execution_count": 15,
   "metadata": {},
   "outputs": [
    {
     "data": {
      "text/plain": [
       "(126799, 9)"
      ]
     },
     "execution_count": 15,
     "metadata": {},
     "output_type": "execute_result"
    }
   ],
   "source": [
    "test = df_test.drop('id', axis=1)\n",
    "train = df_train.drop(['nummosquitos', 'wnvpresent'], axis=1)\n",
    "combined_train_test = pd.concat([test,train])\n",
    "combined_train_test.shape"
   ]
  },
  {
   "cell_type": "code",
   "execution_count": 20,
   "metadata": {},
   "outputs": [
    {
     "data": {
      "text/html": [
       "<div>\n",
       "<style scoped>\n",
       "    .dataframe tbody tr th:only-of-type {\n",
       "        vertical-align: middle;\n",
       "    }\n",
       "\n",
       "    .dataframe tbody tr th {\n",
       "        vertical-align: top;\n",
       "    }\n",
       "\n",
       "    .dataframe thead th {\n",
       "        text-align: right;\n",
       "    }\n",
       "</style>\n",
       "<table border=\"1\" class=\"dataframe\">\n",
       "  <thead>\n",
       "    <tr style=\"text-align: right;\">\n",
       "      <th></th>\n",
       "      <th>species</th>\n",
       "      <th>block</th>\n",
       "      <th>street</th>\n",
       "      <th>trap</th>\n",
       "      <th>year</th>\n",
       "      <th>month</th>\n",
       "      <th>day</th>\n",
       "      <th>latitude</th>\n",
       "      <th>longitude</th>\n",
       "      <th>station</th>\n",
       "      <th>...</th>\n",
       "      <th>codesum</th>\n",
       "      <th>depth</th>\n",
       "      <th>water1</th>\n",
       "      <th>snowfall</th>\n",
       "      <th>preciptotal</th>\n",
       "      <th>stnpressure</th>\n",
       "      <th>sealevel</th>\n",
       "      <th>resultspeed</th>\n",
       "      <th>resultdir</th>\n",
       "      <th>avgspeed</th>\n",
       "    </tr>\n",
       "  </thead>\n",
       "  <tbody>\n",
       "    <tr>\n",
       "      <th>253593</th>\n",
       "      <td>CULEX PIPIENS/RESTUANS</td>\n",
       "      <td>17</td>\n",
       "      <td>N ASHLAND AVE</td>\n",
       "      <td>T232</td>\n",
       "      <td>2013</td>\n",
       "      <td>9</td>\n",
       "      <td>26</td>\n",
       "      <td>41.912563</td>\n",
       "      <td>-87.668055</td>\n",
       "      <td>2</td>\n",
       "      <td>...</td>\n",
       "      <td>NaN</td>\n",
       "      <td>NaN</td>\n",
       "      <td>NaN</td>\n",
       "      <td>NaN</td>\n",
       "      <td>0.0</td>\n",
       "      <td>29.40</td>\n",
       "      <td>30.04</td>\n",
       "      <td>4.1</td>\n",
       "      <td>9</td>\n",
       "      <td>4.6</td>\n",
       "    </tr>\n",
       "    <tr>\n",
       "      <th>253594</th>\n",
       "      <td>CULEX PIPIENS/RESTUANS</td>\n",
       "      <td>71</td>\n",
       "      <td>N HARLEM AVE</td>\n",
       "      <td>T233</td>\n",
       "      <td>2013</td>\n",
       "      <td>9</td>\n",
       "      <td>26</td>\n",
       "      <td>42.009876</td>\n",
       "      <td>-87.807277</td>\n",
       "      <td>1</td>\n",
       "      <td>...</td>\n",
       "      <td>BR</td>\n",
       "      <td>0.0</td>\n",
       "      <td>NaN</td>\n",
       "      <td>0.0</td>\n",
       "      <td>0.0</td>\n",
       "      <td>29.34</td>\n",
       "      <td>30.04</td>\n",
       "      <td>3.8</td>\n",
       "      <td>8</td>\n",
       "      <td>4.2</td>\n",
       "    </tr>\n",
       "    <tr>\n",
       "      <th>253595</th>\n",
       "      <td>CULEX PIPIENS/RESTUANS</td>\n",
       "      <td>71</td>\n",
       "      <td>N HARLEM AVE</td>\n",
       "      <td>T233</td>\n",
       "      <td>2013</td>\n",
       "      <td>9</td>\n",
       "      <td>26</td>\n",
       "      <td>42.009876</td>\n",
       "      <td>-87.807277</td>\n",
       "      <td>2</td>\n",
       "      <td>...</td>\n",
       "      <td>NaN</td>\n",
       "      <td>NaN</td>\n",
       "      <td>NaN</td>\n",
       "      <td>NaN</td>\n",
       "      <td>0.0</td>\n",
       "      <td>29.40</td>\n",
       "      <td>30.04</td>\n",
       "      <td>4.1</td>\n",
       "      <td>9</td>\n",
       "      <td>4.6</td>\n",
       "    </tr>\n",
       "    <tr>\n",
       "      <th>253596</th>\n",
       "      <td>CULEX PIPIENS/RESTUANS</td>\n",
       "      <td>42</td>\n",
       "      <td>W 65TH ST</td>\n",
       "      <td>T235</td>\n",
       "      <td>2013</td>\n",
       "      <td>9</td>\n",
       "      <td>26</td>\n",
       "      <td>41.776428</td>\n",
       "      <td>-87.627096</td>\n",
       "      <td>1</td>\n",
       "      <td>...</td>\n",
       "      <td>BR</td>\n",
       "      <td>0.0</td>\n",
       "      <td>NaN</td>\n",
       "      <td>0.0</td>\n",
       "      <td>0.0</td>\n",
       "      <td>29.34</td>\n",
       "      <td>30.04</td>\n",
       "      <td>3.8</td>\n",
       "      <td>8</td>\n",
       "      <td>4.2</td>\n",
       "    </tr>\n",
       "    <tr>\n",
       "      <th>253597</th>\n",
       "      <td>CULEX PIPIENS/RESTUANS</td>\n",
       "      <td>42</td>\n",
       "      <td>W 65TH ST</td>\n",
       "      <td>T235</td>\n",
       "      <td>2013</td>\n",
       "      <td>9</td>\n",
       "      <td>26</td>\n",
       "      <td>41.776428</td>\n",
       "      <td>-87.627096</td>\n",
       "      <td>2</td>\n",
       "      <td>...</td>\n",
       "      <td>NaN</td>\n",
       "      <td>NaN</td>\n",
       "      <td>NaN</td>\n",
       "      <td>NaN</td>\n",
       "      <td>0.0</td>\n",
       "      <td>29.40</td>\n",
       "      <td>30.04</td>\n",
       "      <td>4.1</td>\n",
       "      <td>9</td>\n",
       "      <td>4.6</td>\n",
       "    </tr>\n",
       "  </tbody>\n",
       "</table>\n",
       "<p>5 rows × 30 columns</p>\n",
       "</div>"
      ],
      "text/plain": [
       "                       species  block          street  trap  year  month  day  \\\n",
       "253593  CULEX PIPIENS/RESTUANS     17   N ASHLAND AVE  T232  2013      9   26   \n",
       "253594  CULEX PIPIENS/RESTUANS     71    N HARLEM AVE  T233  2013      9   26   \n",
       "253595  CULEX PIPIENS/RESTUANS     71    N HARLEM AVE  T233  2013      9   26   \n",
       "253596  CULEX PIPIENS/RESTUANS     42       W 65TH ST  T235  2013      9   26   \n",
       "253597  CULEX PIPIENS/RESTUANS     42       W 65TH ST  T235  2013      9   26   \n",
       "\n",
       "         latitude  longitude  station  ...  codesum  depth  water1  snowfall  \\\n",
       "253593  41.912563 -87.668055        2  ...      NaN    NaN     NaN       NaN   \n",
       "253594  42.009876 -87.807277        1  ...       BR    0.0     NaN       0.0   \n",
       "253595  42.009876 -87.807277        2  ...      NaN    NaN     NaN       NaN   \n",
       "253596  41.776428 -87.627096        1  ...       BR    0.0     NaN       0.0   \n",
       "253597  41.776428 -87.627096        2  ...      NaN    NaN     NaN       NaN   \n",
       "\n",
       "        preciptotal  stnpressure  sealevel  resultspeed  resultdir  avgspeed  \n",
       "253593          0.0        29.40     30.04          4.1          9       4.6  \n",
       "253594          0.0        29.34     30.04          3.8          8       4.2  \n",
       "253595          0.0        29.40     30.04          4.1          9       4.6  \n",
       "253596          0.0        29.34     30.04          3.8          8       4.2  \n",
       "253597          0.0        29.40     30.04          4.1          9       4.6  \n",
       "\n",
       "[5 rows x 30 columns]"
      ]
     },
     "execution_count": 20,
     "metadata": {},
     "output_type": "execute_result"
    }
   ],
   "source": [
    "all_dataset = combined_train_test.merge(df_weather, how='left', on=['year','month','day'])\n",
    "all_dataset.tail()"
   ]
  },
  {
   "cell_type": "code",
   "execution_count": 5,
   "metadata": {},
   "outputs": [
    {
     "data": {
      "text/plain": [
       "1    9955\n",
       "0    9955\n",
       "Name: wnvpresent, dtype: int64"
      ]
     },
     "execution_count": 5,
     "metadata": {},
     "output_type": "execute_result"
    }
   ],
   "source": [
    "minority_upsampled = resample( minority_class, replace=True, n_samples=majority_class.shape[0], random_state=42)\n",
    "train_resampled = pd.concat([minority_upsampled,majority_class])\n",
    "train_resampled.wnvpresent.value_counts()"
   ]
  },
  {
   "cell_type": "code",
   "execution_count": 6,
   "metadata": {},
   "outputs": [
    {
     "data": {
      "text/html": [
       "<div>\n",
       "<style scoped>\n",
       "    .dataframe tbody tr th:only-of-type {\n",
       "        vertical-align: middle;\n",
       "    }\n",
       "\n",
       "    .dataframe tbody tr th {\n",
       "        vertical-align: top;\n",
       "    }\n",
       "\n",
       "    .dataframe thead th {\n",
       "        text-align: right;\n",
       "    }\n",
       "</style>\n",
       "<table border=\"1\" class=\"dataframe\">\n",
       "  <thead>\n",
       "    <tr style=\"text-align: right;\">\n",
       "      <th></th>\n",
       "      <th>species</th>\n",
       "      <th>block</th>\n",
       "      <th>street</th>\n",
       "      <th>trap</th>\n",
       "      <th>nummosquitos</th>\n",
       "      <th>wnvpresent</th>\n",
       "      <th>year</th>\n",
       "      <th>month</th>\n",
       "      <th>day</th>\n",
       "      <th>latitude</th>\n",
       "      <th>longitude</th>\n",
       "    </tr>\n",
       "  </thead>\n",
       "  <tbody>\n",
       "    <tr>\n",
       "      <th>2181</th>\n",
       "      <td>CULEX PIPIENS</td>\n",
       "      <td>38</td>\n",
       "      <td>E 115TH ST</td>\n",
       "      <td>T215</td>\n",
       "      <td>30</td>\n",
       "      <td>1</td>\n",
       "      <td>2007</td>\n",
       "      <td>8</td>\n",
       "      <td>17</td>\n",
       "      <td>41.686398</td>\n",
       "      <td>-87.531635</td>\n",
       "    </tr>\n",
       "    <tr>\n",
       "      <th>9852</th>\n",
       "      <td>CULEX PIPIENS</td>\n",
       "      <td>82</td>\n",
       "      <td>S KOSTNER AVE</td>\n",
       "      <td>T225</td>\n",
       "      <td>21</td>\n",
       "      <td>1</td>\n",
       "      <td>2013</td>\n",
       "      <td>8</td>\n",
       "      <td>22</td>\n",
       "      <td>41.743402</td>\n",
       "      <td>-87.731435</td>\n",
       "    </tr>\n",
       "    <tr>\n",
       "      <th>7198</th>\n",
       "      <td>CULEX RESTUANS</td>\n",
       "      <td>10</td>\n",
       "      <td>W OHARE</td>\n",
       "      <td>T903</td>\n",
       "      <td>7</td>\n",
       "      <td>1</td>\n",
       "      <td>2011</td>\n",
       "      <td>8</td>\n",
       "      <td>5</td>\n",
       "      <td>41.957799</td>\n",
       "      <td>-87.930995</td>\n",
       "    </tr>\n",
       "    <tr>\n",
       "      <th>2192</th>\n",
       "      <td>CULEX PIPIENS</td>\n",
       "      <td>40</td>\n",
       "      <td>E 130TH ST</td>\n",
       "      <td>T221</td>\n",
       "      <td>50</td>\n",
       "      <td>1</td>\n",
       "      <td>2007</td>\n",
       "      <td>8</td>\n",
       "      <td>17</td>\n",
       "      <td>41.659112</td>\n",
       "      <td>-87.538693</td>\n",
       "    </tr>\n",
       "    <tr>\n",
       "      <th>1900</th>\n",
       "      <td>CULEX PIPIENS</td>\n",
       "      <td>46</td>\n",
       "      <td>N MILWAUKEE AVE</td>\n",
       "      <td>T003</td>\n",
       "      <td>49</td>\n",
       "      <td>1</td>\n",
       "      <td>2007</td>\n",
       "      <td>8</td>\n",
       "      <td>15</td>\n",
       "      <td>41.964242</td>\n",
       "      <td>-87.757639</td>\n",
       "    </tr>\n",
       "  </tbody>\n",
       "</table>\n",
       "</div>"
      ],
      "text/plain": [
       "             species  block            street  trap  nummosquitos  wnvpresent  \\\n",
       "2181   CULEX PIPIENS     38        E 115TH ST  T215            30           1   \n",
       "9852   CULEX PIPIENS     82     S KOSTNER AVE  T225            21           1   \n",
       "7198  CULEX RESTUANS     10           W OHARE  T903             7           1   \n",
       "2192   CULEX PIPIENS     40        E 130TH ST  T221            50           1   \n",
       "1900   CULEX PIPIENS     46   N MILWAUKEE AVE  T003            49           1   \n",
       "\n",
       "      year  month  day   latitude  longitude  \n",
       "2181  2007      8   17  41.686398 -87.531635  \n",
       "9852  2013      8   22  41.743402 -87.731435  \n",
       "7198  2011      8    5  41.957799 -87.930995  \n",
       "2192  2007      8   17  41.659112 -87.538693  \n",
       "1900  2007      8   15  41.964242 -87.757639  "
      ]
     },
     "execution_count": 6,
     "metadata": {},
     "output_type": "execute_result"
    }
   ],
   "source": [
    "train_resampled.head()"
   ]
  },
  {
   "cell_type": "code",
   "execution_count": null,
   "metadata": {},
   "outputs": [],
   "source": []
  }
 ],
 "metadata": {
  "kernelspec": {
   "display_name": "Python 3",
   "language": "python",
   "name": "python3"
  },
  "language_info": {
   "codemirror_mode": {
    "name": "ipython",
    "version": 3
   },
   "file_extension": ".py",
   "mimetype": "text/x-python",
   "name": "python",
   "nbconvert_exporter": "python",
   "pygments_lexer": "ipython3",
   "version": "3.7.3"
  }
 },
 "nbformat": 4,
 "nbformat_minor": 2
}
